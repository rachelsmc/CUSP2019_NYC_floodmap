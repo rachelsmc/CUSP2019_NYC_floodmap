{
  "cells": [
    {
      "metadata": {
        "trusted": true
      },
      "cell_type": "code",
      "source": "# initial raster conversion using python\nprint(\"Hello C.R.A.P mappers\")",
      "execution_count": 1,
      "outputs": [
        {
          "output_type": "stream",
          "text": "Hello C.R.A.P mappers\n",
          "name": "stdout"
        }
      ]
    },
    {
      "metadata": {
        "trusted": true
      },
      "cell_type": "code",
      "source": "!conda install -c esri arcgis --yes",
      "execution_count": 4,
      "outputs": [
        {
          "output_type": "stream",
          "text": "Fetching package metadata ...............\nSolving package specifications: .\n\nPackage plan for installation in environment /home/nbuser/anaconda3_420:\n\nThe following NEW packages will be INSTALLED:\n\n    arcgis:              1.6.1-py35h39e3cac_3 esri\n    jeepney:             0.3.1-py35_0             \n    jupyterlab:          0.34.9-py35_0            \n    jupyterlab_launcher: 0.13.1-py35_0            \n    keyring:             13.2.1-py35_0            \n    pyshp:               1.2.12-py35_0            \n    readline:            7.0-ha6073c6_4           \n    secretstorage:       3.1.0-py35_0             \n\nThe following packages will be UPDATED:\n\n    conda:               4.3.31-py35_0             --> 4.5.11-py35_0        \n    conda-env:           2.6.0-h36134e3_1          --> 2.6.0-1              \n    pandas:              0.19.2-np111py35_1        --> 0.23.4-py35h04863e7_0\n    pycosat:             0.6.1-py35_1              --> 0.6.3-py35h6b6bb97_0 \n\nconda-env-2.6. 100% |################################| Time: 0:00:00   1.79 MB/s\nreadline-7.0-h 100% |################################| Time: 0:00:00  18.68 MB/s\njeepney-0.3.1- 100% |################################| Time: 0:00:00  18.00 MB/s\npycosat-0.6.3- 100% |################################| Time: 0:00:00  18.13 MB/s\npyshp-1.2.12-p 100% |################################| Time: 0:00:00   9.61 MB/s\npandas-0.23.4- 100% |################################| Time: 0:00:00  17.55 MB/s\nsecretstorage- 100% |################################| Time: 0:00:00  12.13 MB/s\nconda-4.5.11-p 100% |################################| Time: 0:00:00  19.25 MB/s\nkeyring-13.2.1 100% |################################| Time: 0:00:00  23.05 MB/s\njupyterlab_lau 100% |################################| Time: 0:00:00   9.83 MB/s\njupyterlab-0.3 100% |################################| Time: 0:00:00  18.72 MB/s\narcgis-1.6.1-p 100% |################################| Time: 0:00:00   5.01 MB/s\nUninstalling prior versions of arcgis widget\nInstalling /home/nbuser/anaconda3_420/lib/python3.5/site-packages/arcgis/widgets/js/dist -> arcgis\nUp to date: /home/nbuser/anaconda3_420/share/jupyter/nbextensions/arcgis/extension.js\nUp to date: /home/nbuser/anaconda3_420/share/jupyter/nbextensions/arcgis/arcgis-map-ipywidget.js\nUp to date: /home/nbuser/anaconda3_420/share/jupyter/nbextensions/arcgis/arcgis-map-ipywidget.js.map\n- Validating: \u001b[32mOK\u001b[0m\n\n    To initialize this nbextension in the browser every time the notebook (or other app) loads:\n    \n          jupyter nbextension enable arcgis --py --sys-prefix\n    \nEnabling notebook extension arcgis/extension...\n      - Validating: \u001b[32mOK\u001b[0m\n\n",
          "name": "stdout"
        }
      ]
    },
    {
      "metadata": {
        "trusted": true
      },
      "cell_type": "code",
      "source": "from arcgis.gis import GIS\nmy_gis = GIS()\nmy_gis.map()\n",
      "execution_count": 3,
      "outputs": [
        {
          "output_type": "display_data",
          "data": {
            "application/vnd.jupyter.widget-view+json": {
              "model_id": "41b138375ba340d08b8501399e8b7ca7",
              "version_minor": 0,
              "version_major": 2
            },
            "text/plain": "MapView(layout=Layout(height='400px', width='100%'))"
          },
          "metadata": {}
        },
        {
          "output_type": "display_data",
          "data": {
            "text/plain": "<IPython.core.display.HTML object>",
            "text/html": "<div class=\"map-static-img-preview-aeaef49f-f8b9-40b1-8bf6-5b1713246a86\"><img src=\"\"></img></div>"
          },
          "metadata": {}
        }
      ]
    }
  ],
  "metadata": {
    "kernelspec": {
      "name": "python3",
      "display_name": "Python 3",
      "language": "python"
    },
    "language_info": {
      "mimetype": "text/x-python",
      "nbconvert_exporter": "python",
      "name": "python",
      "pygments_lexer": "ipython3",
      "version": "3.5.4",
      "file_extension": ".py",
      "codemirror_mode": {
        "version": 3,
        "name": "ipython"
      }
    }
  },
  "nbformat": 4,
  "nbformat_minor": 1
}