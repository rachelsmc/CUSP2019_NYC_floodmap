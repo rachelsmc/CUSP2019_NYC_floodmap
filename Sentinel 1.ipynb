{
  "cells": [
    {
      "metadata": {
        "trusted": true
      },
      "cell_type": "code",
      "source": "!curl https://api.daac.asf.alaska.edu/services/search/param?platform=Sentinel-1\\&frame=130\\&relativeOrbit=30\\&output=csv > S1_list.csv",
      "execution_count": 13,
      "outputs": [
        {
          "output_type": "stream",
          "text": "  % Total    % Received % Xferd  Average Speed   Time    Time     Time  Current\n                                 Dload  Upload   Total   Spent    Left  Speed\n100  181k    0  181k    0     0   122k      0 --:--:--  0:00:01 --:--:--  122k\n",
          "name": "stdout"
        }
      ]
    },
    {
      "metadata": {
        "trusted": true
      },
      "cell_type": "code",
      "source": "import pandas as pd",
      "execution_count": 4,
      "outputs": []
    },
    {
      "metadata": {
        "trusted": true
      },
      "cell_type": "code",
      "source": "S1= pd.read_csv(\"S1_list.csv\")\nS1.head()",
      "execution_count": 10,
      "outputs": [
        {
          "output_type": "execute_result",
          "execution_count": 10,
          "data": {
            "text/html": "<div>\n<style scoped>\n    .dataframe tbody tr th:only-of-type {\n        vertical-align: middle;\n    }\n\n    .dataframe tbody tr th {\n        vertical-align: top;\n    }\n\n    .dataframe thead th {\n        text-align: right;\n    }\n</style>\n<table border=\"1\" class=\"dataframe\">\n  <thead>\n    <tr style=\"text-align: right;\">\n      <th></th>\n      <th>Granule Name</th>\n      <th>Platform</th>\n      <th>Sensor</th>\n      <th>Beam Mode</th>\n      <th>Beam Mode Description</th>\n      <th>Orbit</th>\n      <th>Path Number</th>\n      <th>Frame Number</th>\n      <th>Acquisition Date</th>\n      <th>Processing Date</th>\n      <th>...</th>\n      <th>Far End Lon</th>\n      <th>Faraday Rotation</th>\n      <th>Ascending or Descending?</th>\n      <th>URL</th>\n      <th>Size (MB)</th>\n      <th>Off Nadir Angle</th>\n      <th>Stack Size</th>\n      <th>Baseline Perp.</th>\n      <th>Doppler</th>\n      <th>GroupID</th>\n    </tr>\n  </thead>\n  <tbody>\n    <tr>\n      <th>0</th>\n      <td>S1B_IW_SLC__1SDV_20190601T175406_20190601T1754...</td>\n      <td>Sentinel-1B</td>\n      <td>SENTINEL-1 C-SAR</td>\n      <td>IW</td>\n      <td>Interferometric Wide. 250 km swath, 5 m x 20 m...</td>\n      <td>16506</td>\n      <td>30</td>\n      <td>130</td>\n      <td>2019-06-01T17:54:33.000000</td>\n      <td>2019-06-01T17:54:06.000000</td>\n      <td>...</td>\n      <td>1.660374</td>\n      <td>NaN</td>\n      <td>ASCENDING</td>\n      <td>https://datapool.asf.alaska.edu/SLC/SB/S1B_IW_...</td>\n      <td>4219.293387</td>\n      <td>NaN</td>\n      <td>NaN</td>\n      <td>NaN</td>\n      <td>0</td>\n      <td>S1B_IWDV_0129_0136_016506_030</td>\n    </tr>\n    <tr>\n      <th>1</th>\n      <td>S1B_IW_SLC__1SDV_20190601T175406_20190601T1754...</td>\n      <td>Sentinel-1B</td>\n      <td>SENTINEL-1 C-SAR</td>\n      <td>IW</td>\n      <td>Interferometric Wide. 250 km swath, 5 m x 20 m...</td>\n      <td>16506</td>\n      <td>30</td>\n      <td>130</td>\n      <td>2019-06-01T17:54:33.000000</td>\n      <td>2019-06-01T17:54:06.000000</td>\n      <td>...</td>\n      <td>1.660374</td>\n      <td>NaN</td>\n      <td>ASCENDING</td>\n      <td>https://datapool.asf.alaska.edu/METADATA_SLC/S...</td>\n      <td>0.064667</td>\n      <td>NaN</td>\n      <td>NaN</td>\n      <td>NaN</td>\n      <td>0</td>\n      <td>S1B_IWDV_0129_0136_016506_030</td>\n    </tr>\n    <tr>\n      <th>2</th>\n      <td>S1B_IW_OCN__2SDV_20190601T175407_20190601T1754...</td>\n      <td>Sentinel-1B</td>\n      <td>SENTINEL-1 C-SAR</td>\n      <td>IW</td>\n      <td>Interferometric Wide. 250 km swath, 5 m x 20 m...</td>\n      <td>16506</td>\n      <td>30</td>\n      <td>130</td>\n      <td>2019-06-01T17:54:32.000000</td>\n      <td>2019-06-01T17:54:07.000000</td>\n      <td>...</td>\n      <td>1.715315</td>\n      <td>NaN</td>\n      <td>ASCENDING</td>\n      <td>https://datapool.asf.alaska.edu/OCN/SB/S1B_IW_...</td>\n      <td>6.033487</td>\n      <td>NaN</td>\n      <td>NaN</td>\n      <td>NaN</td>\n      <td>0</td>\n      <td>S1B_IWDV_0129_0136_016506_030</td>\n    </tr>\n    <tr>\n      <th>3</th>\n      <td>S1B_IW_GRDH_1SDV_20190601T175407_20190601T1754...</td>\n      <td>Sentinel-1B</td>\n      <td>SENTINEL-1 C-SAR</td>\n      <td>IW</td>\n      <td>Interferometric Wide. 250 km swath, 5 m x 20 m...</td>\n      <td>16506</td>\n      <td>30</td>\n      <td>130</td>\n      <td>2019-06-01T17:54:32.000000</td>\n      <td>2019-06-01T17:54:07.000000</td>\n      <td>...</td>\n      <td>1.715076</td>\n      <td>NaN</td>\n      <td>ASCENDING</td>\n      <td>https://datapool.asf.alaska.edu/GRD_HD/SB/S1B_...</td>\n      <td>929.513432</td>\n      <td>NaN</td>\n      <td>NaN</td>\n      <td>NaN</td>\n      <td>0</td>\n      <td>S1B_IWDV_0129_0136_016506_030</td>\n    </tr>\n    <tr>\n      <th>4</th>\n      <td>S1B_IW_OCN__2SDV_20190601T175407_20190601T1754...</td>\n      <td>Sentinel-1B</td>\n      <td>SENTINEL-1 C-SAR</td>\n      <td>IW</td>\n      <td>Interferometric Wide. 250 km swath, 5 m x 20 m...</td>\n      <td>16506</td>\n      <td>30</td>\n      <td>130</td>\n      <td>2019-06-01T17:54:32.000000</td>\n      <td>2019-06-01T17:54:07.000000</td>\n      <td>...</td>\n      <td>1.715315</td>\n      <td>NaN</td>\n      <td>ASCENDING</td>\n      <td>https://datapool.asf.alaska.edu/METADATA_OCN/S...</td>\n      <td>0.041798</td>\n      <td>NaN</td>\n      <td>NaN</td>\n      <td>NaN</td>\n      <td>0</td>\n      <td>S1B_IWDV_0129_0136_016506_030</td>\n    </tr>\n  </tbody>\n</table>\n<p>5 rows × 32 columns</p>\n</div>",
            "text/plain": "                                        Granule Name     Platform  \\\n0  S1B_IW_SLC__1SDV_20190601T175406_20190601T1754...  Sentinel-1B   \n1  S1B_IW_SLC__1SDV_20190601T175406_20190601T1754...  Sentinel-1B   \n2  S1B_IW_OCN__2SDV_20190601T175407_20190601T1754...  Sentinel-1B   \n3  S1B_IW_GRDH_1SDV_20190601T175407_20190601T1754...  Sentinel-1B   \n4  S1B_IW_OCN__2SDV_20190601T175407_20190601T1754...  Sentinel-1B   \n\n             Sensor Beam Mode  \\\n0  SENTINEL-1 C-SAR        IW   \n1  SENTINEL-1 C-SAR        IW   \n2  SENTINEL-1 C-SAR        IW   \n3  SENTINEL-1 C-SAR        IW   \n4  SENTINEL-1 C-SAR        IW   \n\n                               Beam Mode Description  Orbit  Path Number  \\\n0  Interferometric Wide. 250 km swath, 5 m x 20 m...  16506           30   \n1  Interferometric Wide. 250 km swath, 5 m x 20 m...  16506           30   \n2  Interferometric Wide. 250 km swath, 5 m x 20 m...  16506           30   \n3  Interferometric Wide. 250 km swath, 5 m x 20 m...  16506           30   \n4  Interferometric Wide. 250 km swath, 5 m x 20 m...  16506           30   \n\n   Frame Number            Acquisition Date             Processing Date  \\\n0           130  2019-06-01T17:54:33.000000  2019-06-01T17:54:06.000000   \n1           130  2019-06-01T17:54:33.000000  2019-06-01T17:54:06.000000   \n2           130  2019-06-01T17:54:32.000000  2019-06-01T17:54:07.000000   \n3           130  2019-06-01T17:54:32.000000  2019-06-01T17:54:07.000000   \n4           130  2019-06-01T17:54:32.000000  2019-06-01T17:54:07.000000   \n\n               ...               Far End Lon Faraday Rotation  \\\n0              ...                  1.660374              NaN   \n1              ...                  1.660374              NaN   \n2              ...                  1.715315              NaN   \n3              ...                  1.715076              NaN   \n4              ...                  1.715315              NaN   \n\n  Ascending or Descending?                                                URL  \\\n0                ASCENDING  https://datapool.asf.alaska.edu/SLC/SB/S1B_IW_...   \n1                ASCENDING  https://datapool.asf.alaska.edu/METADATA_SLC/S...   \n2                ASCENDING  https://datapool.asf.alaska.edu/OCN/SB/S1B_IW_...   \n3                ASCENDING  https://datapool.asf.alaska.edu/GRD_HD/SB/S1B_...   \n4                ASCENDING  https://datapool.asf.alaska.edu/METADATA_OCN/S...   \n\n     Size (MB)  Off Nadir Angle  Stack Size  Baseline Perp.  Doppler  \\\n0  4219.293387              NaN         NaN             NaN        0   \n1     0.064667              NaN         NaN             NaN        0   \n2     6.033487              NaN         NaN             NaN        0   \n3   929.513432              NaN         NaN             NaN        0   \n4     0.041798              NaN         NaN             NaN        0   \n\n                         GroupID  \n0  S1B_IWDV_0129_0136_016506_030  \n1  S1B_IWDV_0129_0136_016506_030  \n2  S1B_IWDV_0129_0136_016506_030  \n3  S1B_IWDV_0129_0136_016506_030  \n4  S1B_IWDV_0129_0136_016506_030  \n\n[5 rows x 32 columns]"
          },
          "metadata": {}
        }
      ]
    },
    {
      "metadata": {
        "trusted": true
      },
      "cell_type": "code",
      "source": "S1.columns",
      "execution_count": 9,
      "outputs": [
        {
          "output_type": "execute_result",
          "execution_count": 9,
          "data": {
            "text/plain": "Index(['Granule Name', 'Platform', 'Sensor', 'Beam Mode',\n       'Beam Mode Description', 'Orbit', 'Path Number', 'Frame Number',\n       'Acquisition Date', 'Processing Date', 'Processing Level', 'Start Time',\n       'End Time', 'Center Lat', 'Center Lon', 'Near Start Lat',\n       'Near Start Lon', 'Far Start Lat', 'Far Start Lon', 'Near End Lat',\n       'Near End Lon', 'Far End Lat', 'Far End Lon', 'Faraday Rotation',\n       'Ascending or Descending?', 'URL', 'Size (MB)', 'Off Nadir Angle',\n       'Stack Size', 'Baseline Perp.', 'Doppler', 'GroupID'],\n      dtype='object')"
          },
          "metadata": {}
        }
      ]
    },
    {
      "metadata": {
        "trusted": true
      },
      "cell_type": "code",
      "source": "len(S1['Acquisition Date'].unique())",
      "execution_count": 12,
      "outputs": [
        {
          "output_type": "execute_result",
          "execution_count": 12,
          "data": {
            "text/plain": "81"
          },
          "metadata": {}
        }
      ]
    }
  ],
  "metadata": {
    "kernelspec": {
      "name": "python36",
      "display_name": "Python 3.6",
      "language": "python"
    },
    "language_info": {
      "mimetype": "text/x-python",
      "nbconvert_exporter": "python",
      "name": "python",
      "pygments_lexer": "ipython3",
      "version": "3.6.6",
      "file_extension": ".py",
      "codemirror_mode": {
        "version": 3,
        "name": "ipython"
      }
    }
  },
  "nbformat": 4,
  "nbformat_minor": 2
}