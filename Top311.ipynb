{
 "cells": [
  {
   "cell_type": "markdown",
   "metadata": {},
   "source": [
    "## Top 311 calls "
   ]
  },
  {
   "cell_type": "markdown",
   "metadata": {},
   "source": [
    "in this case, we would like to filter top 10 days where there are the most calls for flood and sewer related complaints. Data we used are from NYC Open Data and filtered to only calls directed to DEP."
   ]
  },
  {
   "cell_type": "code",
   "execution_count": 1,
   "metadata": {},
   "outputs": [
    {
     "name": "stdout",
     "output_type": "stream",
     "text": [
      "Populating the interactive namespace from numpy and matplotlib\n"
     ]
    }
   ],
   "source": [
    "import pandas as pd\n",
    "import geopandas as gpd\n",
    "import pylab as pl\n",
    "\n",
    "%pylab inline\n",
    "import os"
   ]
  },
  {
   "cell_type": "code",
   "execution_count": 2,
   "metadata": {},
   "outputs": [],
   "source": [
    "# specifiy where the data is, in this case, it's in my folder duh\n",
    "dataloc = 'C:/Users/Vivaldi Rinaldi/Documents/datapile/'"
   ]
  },
  {
   "cell_type": "code",
   "execution_count": 3,
   "metadata": {},
   "outputs": [
    {
     "name": "stderr",
     "output_type": "stream",
     "text": [
      "C:\\ProgramData\\Anaconda3\\lib\\site-packages\\IPython\\core\\interactiveshell.py:3020: DtypeWarning: Columns (7,20) have mixed types. Specify dtype option on import or set low_memory=False.\n",
      "  interactivity=interactivity, compiler=compiler, result=result)\n"
     ]
    }
   ],
   "source": [
    "dep311 = pd.read_csv(dataloc + '311_Service_Requests_from_2010_to_Present_DEP.csv')"
   ]
  },
  {
   "cell_type": "code",
   "execution_count": 4,
   "metadata": {},
   "outputs": [],
   "source": [
    "dep311.columns = dep311.columns.str.strip().str.lower().str.replace(' ', '_')"
   ]
  },
  {
   "cell_type": "code",
   "execution_count": 5,
   "metadata": {
    "scrolled": true
   },
   "outputs": [
    {
     "data": {
      "text/plain": [
       "Index(['unique_key', 'created_date', 'closed_date', 'agency', 'agency_name',\n",
       "       'complaint_type', 'descriptor', 'location_type', 'incident_zip',\n",
       "       'incident_address', 'street_name', 'cross_street_1', 'cross_street_2',\n",
       "       'intersection_street_1', 'intersection_street_2', 'address_type',\n",
       "       'city', 'landmark', 'facility_type', 'status', 'due_date',\n",
       "       'resolution_description', 'resolution_action_updated_date',\n",
       "       'community_board', 'bbl', 'borough', 'x_coordinate_(state_plane)',\n",
       "       'y_coordinate_(state_plane)', 'open_data_channel_type',\n",
       "       'park_facility_name', 'park_borough', 'vehicle_type',\n",
       "       'taxi_company_borough', 'taxi_pick_up_location', 'bridge_highway_name',\n",
       "       'bridge_highway_direction', 'road_ramp', 'bridge_highway_segment',\n",
       "       'latitude', 'longitude', 'location'],\n",
       "      dtype='object')"
      ]
     },
     "execution_count": 5,
     "metadata": {},
     "output_type": "execute_result"
    }
   ],
   "source": [
    "dep311.columns"
   ]
  },
  {
   "cell_type": "code",
   "execution_count": 28,
   "metadata": {},
   "outputs": [
    {
     "data": {
      "text/plain": [
       "Noise: Construction Before/After Hours (NM1)                                                                182417\n",
       "Sewer Backup (Use Comments) (SA)                                                                            128908\n",
       "Leak (Use Comments) (WA2)                                                                                   119369\n",
       "Hydrant Running Full (WA4)                                                                                   85537\n",
       "Catch Basin Clogged/Flooding (Use Comments) (SC)                                                             79995\n",
       "Hydrant Running (WC3)                                                                                        75898\n",
       "Dirty Water (WE)                                                                                             74589\n",
       "Noise, Barking Dog (NR5)                                                                                     64111\n",
       "Noise: Construction Equipment (NC1)                                                                          60457\n",
       "Lead Kit Request (Residential) (L10)                                                                         55168\n",
       "Fire Hydrant Emergency (FHE)                                                                                 51999\n",
       "Hydrant Leaking (WC1)                                                                                        42967\n",
       "Noise: air condition/ventilation equipment (NV1)                                                             31069\n",
       "Noise: Jack Hammering (NC2)                                                                                  30531\n",
       "Hydrant Defective (WC2)                                                                                      29052\n",
       "Noise: Alarms (NR3)                                                                                          27413\n",
       "Catch Basin Sunken/Damaged/Raised (SC1)                                                                      26233\n",
       "Street Flooding (SJ)                                                                                         23004\n",
       "Possible Water Main Break (Use Comments) (WA1)                                                               21068\n",
       "Air: Odor/Fumes, Vehicle Idling (AD3)                                                                        21062\n",
       "Water Meter Broken/Leaking - Private Residence (CMR)                                                         19656\n",
       "Manhole Cover Broken/Making Noise (SB)                                                                       19220\n",
       "No Water/Low Pressure (WA5)                                                                                  17380\n",
       "Manhole Cover Missing (Emergency) (SA3)                                                                      15826\n",
       "NO WATER - WNW                                                                                               14605\n",
       "Noise, Ice Cream Truck (NR4)                                                                                 14047\n",
       "Asbestos Complaint (B1)                                                                                      14019\n",
       "Other Water Problem (Use Comments) (WZZ)                                                                     13988\n",
       "Hydrant Knocked Over/Missing (WC)                                                                            13717\n",
       "Air: Dust, Construction/Demolition (AE4)                                                                     13396\n",
       "                                                                                                             ...  \n",
       "Air: Open Fire, Commercial (AC2)                                                                                20\n",
       "Hydrant Defect                                                                                                  19\n",
       "DAMAGE STRUCTURE/RAILING (SRGDM)                                                                                15\n",
       "Illegal Use Of Hose - Private Residence                                                                         13\n",
       "Open Excavation (WZZ2)                                                                                           8\n",
       "BUILDING COLLAPSE/FIRE, (ASBESTOS RELATED) *FOR DEP INTERNAL USE ONLY* (HH2)                                     8\n",
       "Asbestos Project Notification (B2)                                                                               7\n",
       "Lead Other (Use Comments) (L2)                                                                                   7\n",
       "Lead, Outdoor (HJ2)                                                                                              6\n",
       "Building Collapse/Fire, (Asbestos Related) (HH1)                                                                 5\n",
       "NO WATER (WNW)                                                                                                   3\n",
       "Swimming Pool, Illegal Filling - Private Residence (CER)                                                         3\n",
       "Lead, Indoor (HJ1)                                                                                               2\n",
       "Dry weather discharge (DWD)                                                                                      2\n",
       "Defective Hydrant                                                                                                2\n",
       "Other Water Problem                                                                                              2\n",
       "Indoor Air Complaint (HK1)                                                                                       2\n",
       "Taste/Odor - Musty/Stale                                                                                         1\n",
       "Air Conditioner/Ventilation Equipment                                                                            1\n",
       "Chemical Odor                                                                                                    1\n",
       "BWSO Referral To Water Quality (For DEP Internal Use Only)                                                       1\n",
       "SOAP segment *FOR DEP INTERNAL USE ONLY* (SOAP)  Recurring after SOAP *FOR DEP INTERNAL USE ONLY* (SRAS)         1\n",
       "Hydrant Running Full                                                                                             1\n",
       "Explosive/Weapons of Mass Destruction                                                                            1\n",
       "Leaking Hydrant                                                                                                  1\n",
       "Service line termination *FOR DEP INTERNAL USE ONLY* (WSLT)                                                      1\n",
       "Natural Gas Leak                                                                                                 1\n",
       "Storage of Unsafe Chemical                                                                                       1\n",
       "Running Hydrant                                                                                                  1\n",
       "Construction Before/After Hours - For DEP Internal Use Only                                                      1\n",
       "Name: descriptor, Length: 168, dtype: int64"
      ]
     },
     "execution_count": 28,
     "metadata": {},
     "output_type": "execute_result"
    }
   ],
   "source": [
    "dep311.descriptor.value_counts()"
   ]
  },
  {
   "cell_type": "code",
   "execution_count": null,
   "metadata": {},
   "outputs": [],
   "source": [
    "'Noise: Construction Before/After Hours (NM1)'\n",
    "\n",
    "'Leak (Use Comments) (WA2)'\n",
    "'Hydrant Running Full (WA4)'\n",
    "'Dirty Water (WE)'"
   ]
  },
  {
   "cell_type": "code",
   "execution_count": 8,
   "metadata": {},
   "outputs": [
    {
     "data": {
      "text/plain": [
       "array(['Sewer', 'Water System', 'Water Conservation', 'Industrial Waste',\n",
       "       'Noise', 'Hazardous Materials', 'Lead', 'Air Quality', 'Asbestos',\n",
       "       'Water Quality', 'ATF', 'Plant', 'Water Maintenance', 'FATF',\n",
       "       'FHE', 'SRDE', 'SG-99', 'FCST', 'Hazardous Material', 'CST'],\n",
       "      dtype=object)"
      ]
     },
     "execution_count": 8,
     "metadata": {},
     "output_type": "execute_result"
    }
   ],
   "source": [
    "dep311.complaint_type.unique()"
   ]
  },
  {
   "cell_type": "code",
   "execution_count": 10,
   "metadata": {},
   "outputs": [],
   "source": [
    "sewer_data = dep311.loc[dep311['complaint_type']=='Sewer']"
   ]
  },
  {
   "cell_type": "code",
   "execution_count": 11,
   "metadata": {},
   "outputs": [
    {
     "data": {
      "text/plain": [
       "(337651, 41)"
      ]
     },
     "execution_count": 11,
     "metadata": {},
     "output_type": "execute_result"
    }
   ],
   "source": [
    "sewer_data.shape"
   ]
  },
  {
   "cell_type": "code",
   "execution_count": 15,
   "metadata": {},
   "outputs": [
    {
     "data": {
      "text/plain": [
       "Sewer Backup (Use Comments) (SA)                                                                            128908\n",
       "Catch Basin Clogged/Flooding (Use Comments) (SC)                                                             79995\n",
       "Catch Basin Sunken/Damaged/Raised (SC1)                                                                      26233\n",
       "Street Flooding (SJ)                                                                                         23004\n",
       "Manhole Cover Broken/Making Noise (SB)                                                                       19220\n",
       "Manhole Cover Missing (Emergency) (SA3)                                                                      15826\n",
       "Sewer Odor (SA2)                                                                                             12660\n",
       "Defective/Missing Curb Piece (SC4)                                                                            7958\n",
       "Manhole Overflow (Use Comments) (SA1)                                                                         5381\n",
       "Catch Basin Search (SC2)                                                                                      4143\n",
       "Catch Basin Grating Missing (SA4)                                                                             3459\n",
       "Manhole Sunken/Damaged/Raised (SB1)                                                                           3319\n",
       "Highway Flooding (SH)                                                                                         2729\n",
       "Culvert Blocked/Needs Cleaning (SE)                                                                           1589\n",
       "Sewer Break (SBR)                                                                                             1014\n",
       "Plate Noisy/Sunken/Raised (SB5)                                                                                869\n",
       "Plate Missing/Moved-Exposing Hole (SB4)                                                                        640\n",
       "Street Cave-In / Depression (SG)                                                                               302\n",
       "Trench (SZZ1)                                                                                                  192\n",
       "RAIN GARDEN DEBRIS (SRGDBR)                                                                                    127\n",
       "Recurring after SOAP *FOR DEP INTERNAL USE ONLY* (SRAS)                                                         34\n",
       "RAIN GARDEN FLOODING (SRGFLD)                                                                                   33\n",
       "DAMAGE STRUCTURE/RAILING (SRGDM)                                                                                15\n",
       "SOAP segment *FOR DEP INTERNAL USE ONLY* (SOAP)  Recurring after SOAP *FOR DEP INTERNAL USE ONLY* (SRAS)         1\n",
       "Name: descriptor, dtype: int64"
      ]
     },
     "execution_count": 15,
     "metadata": {},
     "output_type": "execute_result"
    }
   ],
   "source": [
    "sewer_data.descriptor.value_counts()"
   ]
  },
  {
   "cell_type": "code",
   "execution_count": 16,
   "metadata": {},
   "outputs": [
    {
     "data": {
      "text/plain": [
       "array(['Catch Basin Search (SC2)', 'Sewer Backup (Use Comments) (SA)',\n",
       "       'Manhole Sunken/Damaged/Raised (SB1)', 'Street Flooding (SJ)',\n",
       "       'Catch Basin Clogged/Flooding (Use Comments) (SC)',\n",
       "       'Catch Basin Grating Missing (SA4)',\n",
       "       'Manhole Cover Missing (Emergency) (SA3)',\n",
       "       'Manhole Overflow (Use Comments) (SA1)', 'Sewer Odor (SA2)',\n",
       "       'Defective/Missing Curb Piece (SC4)',\n",
       "       'Catch Basin Sunken/Damaged/Raised (SC1)',\n",
       "       'Manhole Cover Broken/Making Noise (SB)', 'Trench (SZZ1)',\n",
       "       'Culvert Blocked/Needs Cleaning (SE)',\n",
       "       'Plate Noisy/Sunken/Raised (SB5)',\n",
       "       'Street Cave-In / Depression (SG)', 'Sewer Break (SBR)',\n",
       "       'Highway Flooding (SH)', 'Plate Missing/Moved-Exposing Hole (SB4)',\n",
       "       'DAMAGE STRUCTURE/RAILING (SRGDM)', 'RAIN GARDEN DEBRIS (SRGDBR)',\n",
       "       'RAIN GARDEN FLOODING (SRGFLD)',\n",
       "       'Recurring after SOAP *FOR DEP INTERNAL USE ONLY* (SRAS)',\n",
       "       'SOAP segment *FOR DEP INTERNAL USE ONLY* (SOAP)  Recurring after SOAP *FOR DEP INTERNAL USE ONLY* (SRAS)'],\n",
       "      dtype=object)"
      ]
     },
     "execution_count": 16,
     "metadata": {},
     "output_type": "execute_result"
    }
   ],
   "source": [
    "sewer_data.descriptor.unique()"
   ]
  },
  {
   "cell_type": "markdown",
   "metadata": {},
   "source": [
    "#### So we'll be using these descriptor as a proxy to flooding"
   ]
  },
  {
   "cell_type": "code",
   "execution_count": 17,
   "metadata": {},
   "outputs": [],
   "source": [
    "desc  =  ['Sewer Backup (Use Comments) (SA)', \n",
    "'Catch Basin Clogged/Flooding (Use Comments) (SC)',\n",
    "'Street Flooding (SJ)']\n"
   ]
  },
  {
   "cell_type": "code",
   "execution_count": 26,
   "metadata": {},
   "outputs": [
    {
     "name": "stderr",
     "output_type": "stream",
     "text": [
      "C:\\ProgramData\\Anaconda3\\lib\\site-packages\\ipykernel_launcher.py:1: SettingWithCopyWarning: \n",
      "A value is trying to be set on a copy of a slice from a DataFrame.\n",
      "Try using .loc[row_indexer,col_indexer] = value instead\n",
      "\n",
      "See the caveats in the documentation: http://pandas.pydata.org/pandas-docs/stable/indexing.html#indexing-view-versus-copy\n",
      "  \"\"\"Entry point for launching an IPython kernel.\n"
     ]
    }
   ],
   "source": [
    "sewer_data [\"created_date\"] = pd.to_datetime (sewer_data.created_date)\n",
    "\n",
    "## not sure why i made this but oh well\n",
    "sewer_data_2018 = sewer_data.loc [sewer_data.created_date.dt.year ==2018]\n"
   ]
  },
  {
   "cell_type": "markdown",
   "metadata": {},
   "source": [
    "#### See sandy related calls, "
   ]
  },
  {
   "cell_type": "code",
   "execution_count": 31,
   "metadata": {},
   "outputs": [],
   "source": [
    "sewer_data_2012 = sewer_data.loc [sewer_data.created_date.dt.year ==2012]\n",
    "\n",
    "\n",
    "sewer_data_sandy = pd.concat([sewer_data_2012.loc [sewer_data_2012.created_date.dt.month == 10], \n",
    "                              sewer_data_2012.loc [sewer_data_2012.created_date.dt.month == 11]])"
   ]
  },
  {
   "cell_type": "code",
   "execution_count": 55,
   "metadata": {
    "scrolled": true
   },
   "outputs": [
    {
     "data": {
      "text/html": [
       "<div>\n",
       "<style scoped>\n",
       "    .dataframe tbody tr th:only-of-type {\n",
       "        vertical-align: middle;\n",
       "    }\n",
       "\n",
       "    .dataframe tbody tr th {\n",
       "        vertical-align: top;\n",
       "    }\n",
       "\n",
       "    .dataframe thead th {\n",
       "        text-align: right;\n",
       "    }\n",
       "</style>\n",
       "<table border=\"1\" class=\"dataframe\">\n",
       "  <thead>\n",
       "    <tr style=\"text-align: right;\">\n",
       "      <th></th>\n",
       "      <th>date</th>\n",
       "      <th>unique_key</th>\n",
       "    </tr>\n",
       "    <tr>\n",
       "      <th>created_date</th>\n",
       "      <th></th>\n",
       "      <th></th>\n",
       "    </tr>\n",
       "  </thead>\n",
       "  <tbody>\n",
       "    <tr>\n",
       "      <th>2012-10-01</th>\n",
       "      <td>2012-10-01</td>\n",
       "      <td>85</td>\n",
       "    </tr>\n",
       "    <tr>\n",
       "      <th>2012-10-02</th>\n",
       "      <td>2012-10-02</td>\n",
       "      <td>112</td>\n",
       "    </tr>\n",
       "    <tr>\n",
       "      <th>2012-10-03</th>\n",
       "      <td>2012-10-03</td>\n",
       "      <td>112</td>\n",
       "    </tr>\n",
       "    <tr>\n",
       "      <th>2012-10-04</th>\n",
       "      <td>2012-10-04</td>\n",
       "      <td>136</td>\n",
       "    </tr>\n",
       "    <tr>\n",
       "      <th>2012-10-05</th>\n",
       "      <td>2012-10-05</td>\n",
       "      <td>94</td>\n",
       "    </tr>\n",
       "  </tbody>\n",
       "</table>\n",
       "</div>"
      ],
      "text/plain": [
       "                    date  unique_key\n",
       "created_date                        \n",
       "2012-10-01    2012-10-01          85\n",
       "2012-10-02    2012-10-02         112\n",
       "2012-10-03    2012-10-03         112\n",
       "2012-10-04    2012-10-04         136\n",
       "2012-10-05    2012-10-05          94"
      ]
     },
     "execution_count": 55,
     "metadata": {},
     "output_type": "execute_result"
    }
   ],
   "source": [
    "sandy = sewer_data_sandy.groupby([sewer_data_sandy.created_date.dt.date] ).count()\n",
    "sandy['date'] = sandy.index\n",
    "sandy = sandy[['date', 'unique_key']]\n",
    "\n",
    "sandy.head()"
   ]
  },
  {
   "cell_type": "markdown",
   "metadata": {},
   "source": [
    "  "
   ]
  },
  {
   "cell_type": "markdown",
   "metadata": {},
   "source": [
    "### Use all sewer data"
   ]
  },
  {
   "cell_type": "code",
   "execution_count": 58,
   "metadata": {},
   "outputs": [],
   "source": [
    "## specify i wanna use all sewer calls and count them by dates\n",
    "sewr = sewer_data.groupby([sewer_data.created_date.dt.date] ).count()\n",
    "sewr['date'] = sewr.index\n",
    "sewr = sewr[['date', 'unique_key']]"
   ]
  },
  {
   "cell_type": "code",
   "execution_count": 59,
   "metadata": {},
   "outputs": [
    {
     "data": {
      "text/plain": [
       "<matplotlib.axes._subplots.AxesSubplot at 0x160043a4080>"
      ]
     },
     "execution_count": 59,
     "metadata": {},
     "output_type": "execute_result"
    },
    {
     "data": {
      "image/png": "[encoded data removed]",
      "text/plain": [
       "<Figure size 1440x576 with 1 Axes>"
      ]
     },
     "metadata": {
      "needs_background": "light"
     },
     "output_type": "display_data"
    }
   ],
   "source": [
    "f, ax = pl.subplots(figsize=(20, 8))\n",
    "sewr.plot(x='date', y='unique_key', linewidth=5, fontsize= 10,\n",
    "                     ax = ax, grid=False, x_compat=True)"
   ]
  },
  {
   "cell_type": "code",
   "execution_count": 1,
   "metadata": {},
   "outputs": [
    {
     "ename": "NameError",
     "evalue": "name 'sewer_data' is not defined",
     "output_type": "error",
     "traceback": [
      "\u001b[1;31m---------------------------------------------------------------------------\u001b[0m",
      "\u001b[1;31mNameError\u001b[0m                                 Traceback (most recent call last)",
      "\u001b[1;32m<ipython-input-1-1d4bb56fe23c>\u001b[0m in \u001b[0;36m<module>\u001b[1;34m\u001b[0m\n\u001b[0;32m      1\u001b[0m \u001b[1;31m## Specify by the 3 Descriptors\u001b[0m\u001b[1;33m\u001b[0m\u001b[1;33m\u001b[0m\u001b[1;33m\u001b[0m\u001b[0m\n\u001b[1;32m----> 2\u001b[1;33m \u001b[0msewerbackup\u001b[0m \u001b[1;33m=\u001b[0m \u001b[0msewer_data\u001b[0m\u001b[1;33m.\u001b[0m\u001b[0mloc\u001b[0m\u001b[1;33m[\u001b[0m\u001b[0msewer_data\u001b[0m\u001b[1;33m[\u001b[0m\u001b[1;34m'descriptor'\u001b[0m\u001b[1;33m]\u001b[0m\u001b[1;33m==\u001b[0m \u001b[1;34m'Sewer Backup (Use Comments) (SA)'\u001b[0m\u001b[1;33m]\u001b[0m\u001b[1;33m\u001b[0m\u001b[1;33m\u001b[0m\u001b[0m\n\u001b[0m\u001b[0;32m      3\u001b[0m \u001b[1;33m\u001b[0m\u001b[0m\n\u001b[0;32m      4\u001b[0m \u001b[0mstreetflood\u001b[0m \u001b[1;33m=\u001b[0m \u001b[0msewer_data\u001b[0m\u001b[1;33m.\u001b[0m\u001b[0mloc\u001b[0m\u001b[1;33m[\u001b[0m\u001b[0msewer_data\u001b[0m\u001b[1;33m[\u001b[0m\u001b[1;34m'descriptor'\u001b[0m\u001b[1;33m]\u001b[0m\u001b[1;33m==\u001b[0m \u001b[1;34m'Street Flooding (SJ)'\u001b[0m\u001b[1;33m]\u001b[0m\u001b[1;33m\u001b[0m\u001b[1;33m\u001b[0m\u001b[0m\n\u001b[0;32m      5\u001b[0m \u001b[1;33m\u001b[0m\u001b[0m\n",
      "\u001b[1;31mNameError\u001b[0m: name 'sewer_data' is not defined"
     ]
    }
   ],
   "source": [
    "## Specify by the 3 Descriptors\n",
    "sewerbackup = sewer_data.loc[sewer_data['descriptor']== 'Sewer Backup (Use Comments) (SA)']\n",
    "\n",
    "streetflood = sewer_data.loc[sewer_data['descriptor']== 'Street Flooding (SJ)']\n",
    "\n",
    "cloggedbasin = sewer_data.loc[sewer_data['descriptor']== 'Catch Basin Clogged/Flooding (Use Comments) (SC)']\n",
    "\n",
    "## OKAY I ACCIDENTALLY RUN THIS WHEN COMMENTING\n",
    "## DONT WORRY IT WORKS K"
   ]
  },
  {
   "cell_type": "code",
   "execution_count": 66,
   "metadata": {},
   "outputs": [
    {
     "data": {
      "text/plain": [
       "<matplotlib.axes._subplots.AxesSubplot at 0x160060cf390>"
      ]
     },
     "execution_count": 66,
     "metadata": {},
     "output_type": "execute_result"
    },
    {
     "data": {
      "image/png": "[encoded data removed]",
      "text/plain": [
       "<Figure size 1440x576 with 1 Axes>"
      ]
     },
     "metadata": {
      "needs_background": "light"
     },
     "output_type": "display_data"
    }
   ],
   "source": [
    "## Count each \n",
    "sewr = sewerbackup.groupby([sewerbackup.created_date.dt.date] ).count()\n",
    "sewr['date'] = sewr.index\n",
    "sewr = sewr[['date', 'unique_key']]\n",
    "\n",
    "sewr1 = streetflood.groupby([streetflood.created_date.dt.date] ).count()\n",
    "sewr1['date'] = sewr1.index\n",
    "sewr1 = sewr1[['date', 'unique_key']]\n",
    "\n",
    "sewr2 = cloggedbasin.groupby([cloggedbasin.created_date.dt.date] ).count()\n",
    "sewr2['date'] = sewr2.index\n",
    "sewr2 = sewr2[['date', 'unique_key']]\n",
    "\n",
    "\n",
    "## PLOT\n",
    "f, ax = pl.subplots(figsize=(20, 8))\n",
    "sewr.plot(x='date', y='unique_key', linewidth=1, fontsize= 10,\n",
    "                     ax = ax, grid=False, x_compat=True, label = 'Sewer Backup')\n",
    "sewr2.plot(x='date', y='unique_key', linewidth=1, fontsize= 10,\n",
    "                     ax = ax, grid=False, x_compat=True, label = 'Clogged Basin')\n",
    "sewr1.plot(x='date', y='unique_key', linewidth=1, fontsize= 10,\n",
    "                     ax = ax, grid=False, x_compat=True, label = 'Street Flooding')"
   ]
  },
  {
   "cell_type": "markdown",
   "metadata": {},
   "source": [
    "### Get the top 10 Days"
   ]
  },
  {
   "cell_type": "code",
   "execution_count": 81,
   "metadata": {},
   "outputs": [
    {
     "data": {
      "text/html": [
       "<div>\n",
       "<style scoped>\n",
       "    .dataframe tbody tr th:only-of-type {\n",
       "        vertical-align: middle;\n",
       "    }\n",
       "\n",
       "    .dataframe tbody tr th {\n",
       "        vertical-align: top;\n",
       "    }\n",
       "\n",
       "    .dataframe thead th {\n",
       "        text-align: right;\n",
       "    }\n",
       "</style>\n",
       "<table border=\"1\" class=\"dataframe\">\n",
       "  <thead>\n",
       "    <tr style=\"text-align: right;\">\n",
       "      <th></th>\n",
       "      <th>date</th>\n",
       "      <th>unique_key</th>\n",
       "    </tr>\n",
       "    <tr>\n",
       "      <th>created_date</th>\n",
       "      <th></th>\n",
       "      <th></th>\n",
       "    </tr>\n",
       "  </thead>\n",
       "  <tbody>\n",
       "    <tr>\n",
       "      <th>2011-08-28</th>\n",
       "      <td>2011-08-28</td>\n",
       "      <td>708</td>\n",
       "    </tr>\n",
       "    <tr>\n",
       "      <th>2011-08-14</th>\n",
       "      <td>2011-08-14</td>\n",
       "      <td>504</td>\n",
       "    </tr>\n",
       "    <tr>\n",
       "      <th>2014-05-01</th>\n",
       "      <td>2014-05-01</td>\n",
       "      <td>501</td>\n",
       "    </tr>\n",
       "    <tr>\n",
       "      <th>2011-08-15</th>\n",
       "      <td>2011-08-15</td>\n",
       "      <td>469</td>\n",
       "    </tr>\n",
       "    <tr>\n",
       "      <th>2010-03-30</th>\n",
       "      <td>2010-03-30</td>\n",
       "      <td>445</td>\n",
       "    </tr>\n",
       "    <tr>\n",
       "      <th>2013-05-08</th>\n",
       "      <td>2013-05-08</td>\n",
       "      <td>430</td>\n",
       "    </tr>\n",
       "    <tr>\n",
       "      <th>2011-08-29</th>\n",
       "      <td>2011-08-29</td>\n",
       "      <td>420</td>\n",
       "    </tr>\n",
       "    <tr>\n",
       "      <th>2017-05-05</th>\n",
       "      <td>2017-05-05</td>\n",
       "      <td>420</td>\n",
       "    </tr>\n",
       "    <tr>\n",
       "      <th>2014-04-30</th>\n",
       "      <td>2014-04-30</td>\n",
       "      <td>314</td>\n",
       "    </tr>\n",
       "    <tr>\n",
       "      <th>2012-10-30</th>\n",
       "      <td>2012-10-30</td>\n",
       "      <td>309</td>\n",
       "    </tr>\n",
       "  </tbody>\n",
       "</table>\n",
       "</div>"
      ],
      "text/plain": [
       "                    date  unique_key\n",
       "created_date                        \n",
       "2011-08-28    2011-08-28         708\n",
       "2011-08-14    2011-08-14         504\n",
       "2014-05-01    2014-05-01         501\n",
       "2011-08-15    2011-08-15         469\n",
       "2010-03-30    2010-03-30         445\n",
       "2013-05-08    2013-05-08         430\n",
       "2011-08-29    2011-08-29         420\n",
       "2017-05-05    2017-05-05         420\n",
       "2014-04-30    2014-04-30         314\n",
       "2012-10-30    2012-10-30         309"
      ]
     },
     "execution_count": 81,
     "metadata": {},
     "output_type": "execute_result"
    }
   ],
   "source": [
    "# backup\n",
    "sb10 = sewr.sort_values(by = ['unique_key'], ascending = False).head(10)\n",
    "sb10"
   ]
  },
  {
   "cell_type": "code",
   "execution_count": 74,
   "metadata": {},
   "outputs": [
    {
     "data": {
      "text/html": [
       "<div>\n",
       "<style scoped>\n",
       "    .dataframe tbody tr th:only-of-type {\n",
       "        vertical-align: middle;\n",
       "    }\n",
       "\n",
       "    .dataframe tbody tr th {\n",
       "        vertical-align: top;\n",
       "    }\n",
       "\n",
       "    .dataframe thead th {\n",
       "        text-align: right;\n",
       "    }\n",
       "</style>\n",
       "<table border=\"1\" class=\"dataframe\">\n",
       "  <thead>\n",
       "    <tr style=\"text-align: right;\">\n",
       "      <th></th>\n",
       "      <th>date</th>\n",
       "      <th>unique_key</th>\n",
       "    </tr>\n",
       "    <tr>\n",
       "      <th>created_date</th>\n",
       "      <th></th>\n",
       "      <th></th>\n",
       "    </tr>\n",
       "  </thead>\n",
       "  <tbody>\n",
       "    <tr>\n",
       "      <th>2017-05-05</th>\n",
       "      <td>2017-05-05</td>\n",
       "      <td>247</td>\n",
       "    </tr>\n",
       "    <tr>\n",
       "      <th>2014-12-09</th>\n",
       "      <td>2014-12-09</td>\n",
       "      <td>226</td>\n",
       "    </tr>\n",
       "    <tr>\n",
       "      <th>2014-04-30</th>\n",
       "      <td>2014-04-30</td>\n",
       "      <td>189</td>\n",
       "    </tr>\n",
       "    <tr>\n",
       "      <th>2018-04-16</th>\n",
       "      <td>2018-04-16</td>\n",
       "      <td>163</td>\n",
       "    </tr>\n",
       "    <tr>\n",
       "      <th>2013-05-08</th>\n",
       "      <td>2013-05-08</td>\n",
       "      <td>162</td>\n",
       "    </tr>\n",
       "    <tr>\n",
       "      <th>2016-11-15</th>\n",
       "      <td>2016-11-15</td>\n",
       "      <td>151</td>\n",
       "    </tr>\n",
       "    <tr>\n",
       "      <th>2016-02-08</th>\n",
       "      <td>2016-02-08</td>\n",
       "      <td>150</td>\n",
       "    </tr>\n",
       "    <tr>\n",
       "      <th>2018-11-25</th>\n",
       "      <td>2018-11-25</td>\n",
       "      <td>142</td>\n",
       "    </tr>\n",
       "    <tr>\n",
       "      <th>2010-10-01</th>\n",
       "      <td>2010-10-01</td>\n",
       "      <td>130</td>\n",
       "    </tr>\n",
       "    <tr>\n",
       "      <th>2010-03-30</th>\n",
       "      <td>2010-03-30</td>\n",
       "      <td>128</td>\n",
       "    </tr>\n",
       "  </tbody>\n",
       "</table>\n",
       "</div>"
      ],
      "text/plain": [
       "                    date  unique_key\n",
       "created_date                        \n",
       "2017-05-05    2017-05-05         247\n",
       "2014-12-09    2014-12-09         226\n",
       "2014-04-30    2014-04-30         189\n",
       "2018-04-16    2018-04-16         163\n",
       "2013-05-08    2013-05-08         162\n",
       "2016-11-15    2016-11-15         151\n",
       "2016-02-08    2016-02-08         150\n",
       "2018-11-25    2018-11-25         142\n",
       "2010-10-01    2010-10-01         130\n",
       "2010-03-30    2010-03-30         128"
      ]
     },
     "execution_count": 74,
     "metadata": {},
     "output_type": "execute_result"
    }
   ],
   "source": [
    "# street flooding\n",
    "sf10 = sewr1.sort_values(by = ['unique_key'], ascending = False).head(10)\n",
    "sf10 "
   ]
  },
  {
   "cell_type": "code",
   "execution_count": 73,
   "metadata": {},
   "outputs": [
    {
     "data": {
      "text/html": [
       "<div>\n",
       "<style scoped>\n",
       "    .dataframe tbody tr th:only-of-type {\n",
       "        vertical-align: middle;\n",
       "    }\n",
       "\n",
       "    .dataframe tbody tr th {\n",
       "        vertical-align: top;\n",
       "    }\n",
       "\n",
       "    .dataframe thead th {\n",
       "        text-align: right;\n",
       "    }\n",
       "</style>\n",
       "<table border=\"1\" class=\"dataframe\">\n",
       "  <thead>\n",
       "    <tr style=\"text-align: right;\">\n",
       "      <th></th>\n",
       "      <th>date</th>\n",
       "      <th>unique_key</th>\n",
       "    </tr>\n",
       "    <tr>\n",
       "      <th>created_date</th>\n",
       "      <th></th>\n",
       "      <th></th>\n",
       "    </tr>\n",
       "  </thead>\n",
       "  <tbody>\n",
       "    <tr>\n",
       "      <th>2011-08-25</th>\n",
       "      <td>2011-08-25</td>\n",
       "      <td>637</td>\n",
       "    </tr>\n",
       "    <tr>\n",
       "      <th>2011-08-26</th>\n",
       "      <td>2011-08-26</td>\n",
       "      <td>395</td>\n",
       "    </tr>\n",
       "    <tr>\n",
       "      <th>2014-12-09</th>\n",
       "      <td>2014-12-09</td>\n",
       "      <td>316</td>\n",
       "    </tr>\n",
       "    <tr>\n",
       "      <th>2010-03-30</th>\n",
       "      <td>2010-03-30</td>\n",
       "      <td>265</td>\n",
       "    </tr>\n",
       "    <tr>\n",
       "      <th>2012-05-21</th>\n",
       "      <td>2012-05-21</td>\n",
       "      <td>259</td>\n",
       "    </tr>\n",
       "    <tr>\n",
       "      <th>2014-04-30</th>\n",
       "      <td>2014-04-30</td>\n",
       "      <td>257</td>\n",
       "    </tr>\n",
       "    <tr>\n",
       "      <th>2017-05-05</th>\n",
       "      <td>2017-05-05</td>\n",
       "      <td>257</td>\n",
       "    </tr>\n",
       "    <tr>\n",
       "      <th>2011-08-28</th>\n",
       "      <td>2011-08-28</td>\n",
       "      <td>249</td>\n",
       "    </tr>\n",
       "    <tr>\n",
       "      <th>2013-05-08</th>\n",
       "      <td>2013-05-08</td>\n",
       "      <td>237</td>\n",
       "    </tr>\n",
       "    <tr>\n",
       "      <th>2016-11-15</th>\n",
       "      <td>2016-11-15</td>\n",
       "      <td>224</td>\n",
       "    </tr>\n",
       "  </tbody>\n",
       "</table>\n",
       "</div>"
      ],
      "text/plain": [
       "                    date  unique_key\n",
       "created_date                        \n",
       "2011-08-25    2011-08-25         637\n",
       "2011-08-26    2011-08-26         395\n",
       "2014-12-09    2014-12-09         316\n",
       "2010-03-30    2010-03-30         265\n",
       "2012-05-21    2012-05-21         259\n",
       "2014-04-30    2014-04-30         257\n",
       "2017-05-05    2017-05-05         257\n",
       "2011-08-28    2011-08-28         249\n",
       "2013-05-08    2013-05-08         237\n",
       "2016-11-15    2016-11-15         224"
      ]
     },
     "execution_count": 73,
     "metadata": {},
     "output_type": "execute_result"
    }
   ],
   "source": [
    "# clogged basin \n",
    "cb10 = sewr2.sort_values(by = ['unique_key'], ascending = False).head(10)\n",
    "cb10"
   ]
  },
  {
   "cell_type": "markdown",
   "metadata": {},
   "source": [
    "#### Basically we want to filter by the date above"
   ]
  },
  {
   "cell_type": "code",
   "execution_count": 77,
   "metadata": {},
   "outputs": [],
   "source": [
    "sb10f = pd.DataFrame()\n",
    "\n",
    "for i in sb10.date:\n",
    "    sb10f = sb10f.append(sewerbackup.loc[sewerbackup.created_date.dt.date == i], ignore_index = True)\n",
    "    "
   ]
  },
  {
   "cell_type": "code",
   "execution_count": 82,
   "metadata": {},
   "outputs": [],
   "source": [
    "cb10f = pd.DataFrame()\n",
    "\n",
    "for i in cb10.date:\n",
    "    cb10f = cb10f.append(cloggedbasin.loc[cloggedbasin.created_date.dt.date == i], ignore_index = True)"
   ]
  },
  {
   "cell_type": "code",
   "execution_count": 83,
   "metadata": {},
   "outputs": [],
   "source": [
    "sf10f = pd.DataFrame()\n",
    "\n",
    "for i in sf10.date:\n",
    "    sf10f = sf10f.append(streetflood.loc[streetflood.created_date.dt.date == i], ignore_index = True)"
   ]
  },
  {
   "cell_type": "code",
   "execution_count": 86,
   "metadata": {},
   "outputs": [],
   "source": [
    "# make these a CSV\n",
    "sb10f.to_csv('sewerBackup10f.csv')\n",
    "sf10f.to_csv('streetFlooding10f.csv')\n",
    "cb10f.to_csv('cloggedBasin10f.csv')"
   ]
  },
  {
   "cell_type": "code",
   "execution_count": 30,
   "metadata": {},
   "outputs": [
    {
     "data": {
      "text/plain": [
       "10"
      ]
     },
     "execution_count": 30,
     "metadata": {},
     "output_type": "execute_result"
    }
   ],
   "source": [
    "len(sewer_data.created_date.dt.year.unique())"
   ]
  },
  {
   "cell_type": "code",
   "execution_count": 27,
   "metadata": {},
   "outputs": [],
   "source": [
    "# \n",
    "for i in desc:\n",
    "    data = sewer_data_2018.loc[sewer_data['descriptor']== i]\n",
    "    filenames = i.replace(' ', '')\n",
    "    filenames = filenames.replace('/', '')\n",
    "    data.to_csv(filenames + '_2018.csv')\n",
    "    "
   ]
  }
 ],
 "metadata": {
  "kernelspec": {
   "display_name": "Python 3",
   "language": "python",
   "name": "python3"
  },
  "language_info": {
   "codemirror_mode": {
    "name": "ipython",
    "version": 3
   },
   "file_extension": ".py",
   "mimetype": "text/x-python",
   "name": "python",
   "nbconvert_exporter": "python",
   "pygments_lexer": "ipython3",
   "version": "3.6.8"
  }
 },
 "nbformat": 4,
 "nbformat_minor": 2
}
